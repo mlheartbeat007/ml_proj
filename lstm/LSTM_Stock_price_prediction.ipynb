{
 "cells": [
  {
   "cell_type": "code",
   "execution_count": 3,
   "metadata": {},
   "outputs": [],
   "source": [
    "import numpy as np\n",
    "import matplotlib.pyplot as plt\n",
    "import pandas as pd"
   ]
  },
  {
   "cell_type": "code",
   "execution_count": 4,
   "metadata": {},
   "outputs": [],
   "source": [
    "dataframe = pd.read_csv('./HistoricalQuotes_APPLE.csv')"
   ]
  },
  {
   "cell_type": "code",
   "execution_count": 5,
   "metadata": {},
   "outputs": [],
   "source": [
    "dataframe = dataframe.iloc[::-1].reset_index(drop=True)"
   ]
  },
  {
   "cell_type": "code",
   "execution_count": 6,
   "metadata": {},
   "outputs": [],
   "source": [
    "dataframe = dataframe.iloc[:, 3:4].values"
   ]
  },
  {
   "cell_type": "code",
   "execution_count": 7,
   "metadata": {},
   "outputs": [],
   "source": [
    "from sklearn.preprocessing import MinMaxScaler\n",
    "sc = MinMaxScaler(feature_range=(0,1))\n",
    "scaled_price = sc.fit_transform(dataframe)"
   ]
  },
  {
   "cell_type": "code",
   "execution_count": 8,
   "metadata": {},
   "outputs": [],
   "source": [
    "X_train = []\n",
    "y_train = []\n",
    "X_test = []\n",
    "y_test = []\n",
    "time_units = 120\n",
    "test_size = 80 # 4 month data\n",
    "for i in range(time_units, len(scaled_price)-test_size):\n",
    "    X_train.append(scaled_price[i-time_units:i, 0])\n",
    "    y_train.append(scaled_price[i,0])\n",
    "for i in range(len(scaled_price)-test_size, len(scaled_price)):\n",
    "    X_test.append(scaled_price[i-time_units:i, 0])\n",
    "    y_test.append(scaled_price[i,0])\n",
    "\n",
    "X_train, y_train = np.array(X_train), np.array(y_train)\n",
    "X_test, y_test = np.array(X_test), np.array(y_test)"
   ]
  },
  {
   "cell_type": "code",
   "execution_count": 9,
   "metadata": {},
   "outputs": [],
   "source": [
    "X_train = X_train.reshape((X_train.shape[0], X_train.shape[1],1))\n",
    "X_test = X_test.reshape((X_test.shape[0], X_test.shape[1],1))"
   ]
  },
  {
   "cell_type": "code",
   "execution_count": 10,
   "metadata": {},
   "outputs": [],
   "source": [
    "from keras.models import Sequential\n",
    "from keras.layers import LSTM\n",
    "from keras.layers import Dense\n",
    "from keras.layers import Dropout"
   ]
  },
  {
   "cell_type": "code",
   "execution_count": 11,
   "metadata": {},
   "outputs": [],
   "source": [
    "model = Sequential()\n",
    "model.add(LSTM(return_sequences=True, units=60, input_shape=(X_train.shape[1],1)))\n",
    "model.add(Dropout(0.2))\n",
    "model.add(LSTM(return_sequences=True, units=60))\n",
    "model.add(Dropout(0.2))\n",
    "model.add(LSTM(return_sequences=True, units=60))\n",
    "model.add(Dropout(0.2))\n",
    "model.add(LSTM(units=60))\n",
    "model.add(Dropout(0.2))\n",
    "model.add(Dense(units=1))\n",
    "model.compile(loss='mean_squared_error', optimizer='adam')"
   ]
  },
  {
   "cell_type": "code",
   "execution_count": 12,
   "metadata": {},
   "outputs": [
    {
     "name": "stdout",
     "output_type": "stream",
     "text": [
      "Epoch 1/100\n",
      "2319/2319 [==============================] - 12s 5ms/step - loss: 0.0192\n",
      "Epoch 2/100\n",
      "2319/2319 [==============================] - 11s 5ms/step - loss: 0.0025\n",
      "Epoch 3/100\n",
      "2319/2319 [==============================] - 11s 5ms/step - loss: 0.0024\n",
      "Epoch 4/100\n",
      "2319/2319 [==============================] - 11s 5ms/step - loss: 0.0022\n",
      "Epoch 5/100\n",
      "2319/2319 [==============================] - 11s 5ms/step - loss: 0.0023\n",
      "Epoch 6/100\n",
      "2319/2319 [==============================] - 11s 5ms/step - loss: 0.0018\n",
      "Epoch 7/100\n",
      "2319/2319 [==============================] - 11s 5ms/step - loss: 0.0018\n",
      "Epoch 8/100\n",
      "2319/2319 [==============================] - 12s 5ms/step - loss: 0.0019\n",
      "Epoch 9/100\n",
      "2319/2319 [==============================] - 12s 5ms/step - loss: 0.0017\n",
      "Epoch 10/100\n",
      "2319/2319 [==============================] - 11s 5ms/step - loss: 0.0017\n",
      "Epoch 11/100\n",
      "2319/2319 [==============================] - 11s 5ms/step - loss: 0.0016\n",
      "Epoch 12/100\n",
      "2319/2319 [==============================] - 11s 5ms/step - loss: 0.0016\n",
      "Epoch 13/100\n",
      "2319/2319 [==============================] - 11s 5ms/step - loss: 0.0016\n",
      "Epoch 14/100\n",
      "2319/2319 [==============================] - 11s 5ms/step - loss: 0.0014\n",
      "Epoch 15/100\n",
      "2319/2319 [==============================] - 11s 5ms/step - loss: 0.0015\n",
      "Epoch 16/100\n",
      "2319/2319 [==============================] - 11s 5ms/step - loss: 0.0013\n",
      "Epoch 17/100\n",
      "2319/2319 [==============================] - 11s 5ms/step - loss: 0.0013\n",
      "Epoch 18/100\n",
      "2319/2319 [==============================] - 11s 5ms/step - loss: 0.0012\n",
      "Epoch 19/100\n",
      "2319/2319 [==============================] - 11s 5ms/step - loss: 0.0012\n",
      "Epoch 20/100\n",
      "2319/2319 [==============================] - 11s 5ms/step - loss: 0.0012\n",
      "Epoch 21/100\n",
      "2319/2319 [==============================] - 11s 5ms/step - loss: 0.0011\n",
      "Epoch 22/100\n",
      "2319/2319 [==============================] - 11s 5ms/step - loss: 0.0012\n",
      "Epoch 23/100\n",
      "2319/2319 [==============================] - 11s 5ms/step - loss: 9.8366e-04\n",
      "Epoch 24/100\n",
      "2319/2319 [==============================] - 11s 5ms/step - loss: 0.0012\n",
      "Epoch 25/100\n",
      "2319/2319 [==============================] - 11s 5ms/step - loss: 0.0011\n",
      "Epoch 26/100\n",
      "2319/2319 [==============================] - 11s 5ms/step - loss: 0.0011\n",
      "Epoch 27/100\n",
      "2319/2319 [==============================] - 11s 5ms/step - loss: 0.0011\n",
      "Epoch 28/100\n",
      "2319/2319 [==============================] - 11s 5ms/step - loss: 0.0011\n",
      "Epoch 29/100\n",
      "2319/2319 [==============================] - 11s 5ms/step - loss: 0.0010\n",
      "Epoch 30/100\n",
      "2319/2319 [==============================] - 11s 5ms/step - loss: 9.5654e-04\n",
      "Epoch 31/100\n",
      "2319/2319 [==============================] - 11s 5ms/step - loss: 9.1840e-04\n",
      "Epoch 32/100\n",
      "2319/2319 [==============================] - 11s 5ms/step - loss: 0.0010\n",
      "Epoch 33/100\n",
      "2319/2319 [==============================] - 11s 5ms/step - loss: 9.5852e-04\n",
      "Epoch 34/100\n",
      "2319/2319 [==============================] - 11s 5ms/step - loss: 8.3347e-04\n",
      "Epoch 35/100\n",
      "2319/2319 [==============================] - 11s 5ms/step - loss: 8.9190e-04\n",
      "Epoch 36/100\n",
      "2319/2319 [==============================] - 11s 5ms/step - loss: 9.2438e-04\n",
      "Epoch 37/100\n",
      "2319/2319 [==============================] - 11s 5ms/step - loss: 9.0696e-04\n",
      "Epoch 38/100\n",
      "2319/2319 [==============================] - 11s 5ms/step - loss: 8.2080e-04\n",
      "Epoch 39/100\n",
      "2319/2319 [==============================] - 11s 5ms/step - loss: 7.7155e-04\n",
      "Epoch 40/100\n",
      "2319/2319 [==============================] - 11s 5ms/step - loss: 9.3612e-04\n",
      "Epoch 41/100\n",
      "2319/2319 [==============================] - 11s 5ms/step - loss: 7.4669e-04\n",
      "Epoch 42/100\n",
      "2319/2319 [==============================] - 11s 5ms/step - loss: 7.5327e-04\n",
      "Epoch 43/100\n",
      "2319/2319 [==============================] - 11s 5ms/step - loss: 9.0649e-04\n",
      "Epoch 44/100\n",
      "2319/2319 [==============================] - 12s 5ms/step - loss: 8.4022e-04\n",
      "Epoch 45/100\n",
      "2319/2319 [==============================] - 11s 5ms/step - loss: 8.0511e-04\n",
      "Epoch 46/100\n",
      "2319/2319 [==============================] - 11s 5ms/step - loss: 7.7866e-04\n",
      "Epoch 47/100\n",
      "2319/2319 [==============================] - 11s 5ms/step - loss: 7.0528e-04\n",
      "Epoch 48/100\n",
      "2319/2319 [==============================] - 11s 5ms/step - loss: 6.7585e-04\n",
      "Epoch 49/100\n",
      "2319/2319 [==============================] - 11s 5ms/step - loss: 7.0376e-04\n",
      "Epoch 50/100\n",
      "2319/2319 [==============================] - 11s 5ms/step - loss: 8.0459e-04\n",
      "Epoch 51/100\n",
      "2319/2319 [==============================] - 11s 5ms/step - loss: 8.0939e-04\n",
      "Epoch 52/100\n",
      "2319/2319 [==============================] - 11s 5ms/step - loss: 6.9997e-04\n",
      "Epoch 53/100\n",
      "2319/2319 [==============================] - 11s 5ms/step - loss: 6.8902e-04\n",
      "Epoch 54/100\n",
      "2319/2319 [==============================] - 11s 5ms/step - loss: 8.6997e-04\n",
      "Epoch 55/100\n",
      "2319/2319 [==============================] - 11s 5ms/step - loss: 7.5391e-04\n",
      "Epoch 56/100\n",
      "2319/2319 [==============================] - 11s 5ms/step - loss: 7.3317e-04\n",
      "Epoch 57/100\n",
      "2319/2319 [==============================] - 11s 5ms/step - loss: 7.1258e-04\n",
      "Epoch 58/100\n",
      "2319/2319 [==============================] - 11s 5ms/step - loss: 6.0724e-04\n",
      "Epoch 59/100\n",
      "2319/2319 [==============================] - 11s 5ms/step - loss: 5.7144e-04\n",
      "Epoch 60/100\n",
      "2319/2319 [==============================] - 11s 5ms/step - loss: 7.1390e-04\n",
      "Epoch 61/100\n",
      "2319/2319 [==============================] - 11s 5ms/step - loss: 6.8942e-04\n",
      "Epoch 62/100\n",
      "2319/2319 [==============================] - 11s 5ms/step - loss: 6.9585e-04\n",
      "Epoch 63/100\n",
      "2319/2319 [==============================] - 11s 5ms/step - loss: 5.8412e-04\n",
      "Epoch 64/100\n",
      "2319/2319 [==============================] - 11s 5ms/step - loss: 6.4599e-04\n",
      "Epoch 65/100\n",
      "2319/2319 [==============================] - 11s 5ms/step - loss: 6.7738e-04\n",
      "Epoch 66/100\n",
      "2319/2319 [==============================] - 11s 5ms/step - loss: 6.7590e-04\n",
      "Epoch 67/100\n",
      "2319/2319 [==============================] - 11s 5ms/step - loss: 6.3215e-04\n",
      "Epoch 68/100\n",
      "2319/2319 [==============================] - 11s 5ms/step - loss: 5.7887e-04\n",
      "Epoch 69/100\n",
      "2319/2319 [==============================] - 11s 5ms/step - loss: 6.3284e-04\n",
      "Epoch 70/100\n",
      "2319/2319 [==============================] - 11s 5ms/step - loss: 6.1339e-04\n",
      "Epoch 71/100\n",
      "2319/2319 [==============================] - 11s 5ms/step - loss: 6.3330e-04\n",
      "Epoch 72/100\n",
      "2319/2319 [==============================] - 11s 5ms/step - loss: 6.5841e-04\n",
      "Epoch 73/100\n",
      "2319/2319 [==============================] - 11s 5ms/step - loss: 6.4676e-04\n",
      "Epoch 74/100\n",
      "2319/2319 [==============================] - 12s 5ms/step - loss: 8.0956e-04\n",
      "Epoch 75/100\n",
      "2319/2319 [==============================] - 12s 5ms/step - loss: 6.6189e-04\n",
      "Epoch 76/100\n",
      "2319/2319 [==============================] - 11s 5ms/step - loss: 5.8644e-04\n",
      "Epoch 77/100\n",
      "2319/2319 [==============================] - 11s 5ms/step - loss: 6.4947e-04\n",
      "Epoch 78/100\n",
      "2319/2319 [==============================] - 11s 5ms/step - loss: 5.4959e-04\n",
      "Epoch 79/100\n",
      "2319/2319 [==============================] - 11s 5ms/step - loss: 5.7726e-04\n",
      "Epoch 80/100\n",
      "2319/2319 [==============================] - 11s 5ms/step - loss: 7.2011e-04\n",
      "Epoch 81/100\n",
      "2319/2319 [==============================] - 11s 5ms/step - loss: 5.9368e-04\n",
      "Epoch 82/100\n",
      "2319/2319 [==============================] - 12s 5ms/step - loss: 6.0193e-04\n",
      "Epoch 83/100\n",
      "2319/2319 [==============================] - 11s 5ms/step - loss: 5.3538e-04\n",
      "Epoch 84/100\n",
      "2319/2319 [==============================] - 11s 5ms/step - loss: 5.6500e-04\n",
      "Epoch 85/100\n",
      "2319/2319 [==============================] - 12s 5ms/step - loss: 6.0246e-04\n",
      "Epoch 86/100\n",
      "2319/2319 [==============================] - 12s 5ms/step - loss: 6.3217e-04\n",
      "Epoch 87/100\n",
      "2319/2319 [==============================] - 12s 5ms/step - loss: 6.9777e-04\n",
      "Epoch 88/100\n",
      "2319/2319 [==============================] - 12s 5ms/step - loss: 5.9353e-04\n",
      "Epoch 89/100\n",
      "2319/2319 [==============================] - 12s 5ms/step - loss: 6.5281e-04\n",
      "Epoch 90/100\n",
      "2319/2319 [==============================] - 12s 5ms/step - loss: 6.3317e-04\n",
      "Epoch 91/100\n",
      "2319/2319 [==============================] - 13s 6ms/step - loss: 5.9016e-04\n",
      "Epoch 92/100\n",
      "2319/2319 [==============================] - 13s 6ms/step - loss: 5.6968e-04\n",
      "Epoch 93/100\n"
     ]
    },
    {
     "name": "stdout",
     "output_type": "stream",
     "text": [
      "2319/2319 [==============================] - 13s 6ms/step - loss: 5.0280e-04\n",
      "Epoch 94/100\n",
      "2319/2319 [==============================] - 11s 5ms/step - loss: 6.2916e-04\n",
      "Epoch 95/100\n",
      "2319/2319 [==============================] - 13s 5ms/step - loss: 6.1246e-04\n",
      "Epoch 96/100\n",
      "2319/2319 [==============================] - 11s 5ms/step - loss: 5.7885e-04\n",
      "Epoch 97/100\n",
      "2319/2319 [==============================] - 11s 5ms/step - loss: 6.0036e-04\n",
      "Epoch 98/100\n",
      "2319/2319 [==============================] - 11s 5ms/step - loss: 5.4436e-04\n",
      "Epoch 99/100\n",
      "2319/2319 [==============================] - 13s 6ms/step - loss: 6.1360e-04\n",
      "Epoch 100/100\n",
      "2319/2319 [==============================] - 12s 5ms/step - loss: 5.9044e-04\n"
     ]
    },
    {
     "data": {
      "text/plain": [
       "<keras.callbacks.History at 0x7fdb36f9a1d0>"
      ]
     },
     "execution_count": 12,
     "metadata": {},
     "output_type": "execute_result"
    }
   ],
   "source": [
    "model.fit(X_train, y_train,batch_size=32, epochs=100)"
   ]
  },
  {
   "cell_type": "code",
   "execution_count": 13,
   "metadata": {},
   "outputs": [],
   "source": [
    "X_test  = X_test.reshape((X_test.shape[0], X_test.shape[1], 1))\n",
    "predicted_price = model.predict(X_test)"
   ]
  },
  {
   "cell_type": "code",
   "execution_count": 14,
   "metadata": {},
   "outputs": [],
   "source": [
    "y_test = y_test.reshape((y_test.shape[0],1))"
   ]
  },
  {
   "cell_type": "code",
   "execution_count": 15,
   "metadata": {},
   "outputs": [
    {
     "data": {
      "image/png": "[encoded data removed]",
      "text/plain": [
       "<matplotlib.figure.Figure at 0x7fdb2d7f3908>"
      ]
     },
     "metadata": {},
     "output_type": "display_data"
    }
   ],
   "source": [
    "predicted_price = sc.inverse_transform(predicted_price)\n",
    "real_price = sc.inverse_transform(y_test)\n",
    "plt.plot(real_price, color = 'red', label='Real')\n",
    "plt.plot(predicted_price, color = 'green', label = 'predicted')\n",
    "plt.xlabel('Time')\n",
    "plt.ylabel('Price')\n",
    "plt.title('Apple Stock Price')\n",
    "plt.legend()\n",
    "plt.show()"
   ]
  },
  {
   "cell_type": "code",
   "execution_count": 16,
   "metadata": {},
   "outputs": [],
   "source": [
    "from keras.models import load_model"
   ]
  },
  {
   "cell_type": "code",
   "execution_count": 17,
   "metadata": {},
   "outputs": [],
   "source": [
    "model.save('abc.h5')"
   ]
  },
  {
   "cell_type": "code",
   "execution_count": null,
   "metadata": {},
   "outputs": [],
   "source": []
  }
 ],
 "metadata": {
  "kernelspec": {
   "display_name": "Python 3",
   "language": "python",
   "name": "python3"
  },
  "language_info": {
   "codemirror_mode": {
    "name": "ipython",
    "version": 3
   },
   "file_extension": ".py",
   "mimetype": "text/x-python",
   "name": "python",
   "nbconvert_exporter": "python",
   "pygments_lexer": "ipython3",
   "version": "3.5.2"
  }
 },
 "nbformat": 4,
 "nbformat_minor": 2
}
