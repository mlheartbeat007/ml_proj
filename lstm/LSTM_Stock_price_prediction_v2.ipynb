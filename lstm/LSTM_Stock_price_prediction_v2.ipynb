{
 "cells": [
  {
   "cell_type": "code",
   "execution_count": 1,
   "metadata": {},
   "outputs": [],
   "source": [
    "import numpy as np\n",
    "import matplotlib.pyplot as plt\n",
    "import pandas as pd"
   ]
  },
  {
   "cell_type": "code",
   "execution_count": 2,
   "metadata": {},
   "outputs": [],
   "source": [
    "dataframe = pd.read_csv('./HistoricalQuotes_APPLE.csv') #Apple stock price fr 10 years, downloaded from nasdaq.com"
   ]
  },
  {
   "cell_type": "code",
   "execution_count": 3,
   "metadata": {},
   "outputs": [],
   "source": [
    "dataframe = dataframe.iloc[::-1].reset_index(drop=True)"
   ]
  },
  {
   "cell_type": "code",
   "execution_count": 4,
   "metadata": {},
   "outputs": [],
   "source": [
    "dataframe = dataframe.iloc[:, 3:4].values"
   ]
  },
  {
   "cell_type": "code",
   "execution_count": 5,
   "metadata": {},
   "outputs": [],
   "source": [
    "from sklearn.preprocessing import MinMaxScaler\n",
    "sc = MinMaxScaler(feature_range=(0,1))\n",
    "scaled_price = sc.fit_transform(dataframe)"
   ]
  },
  {
   "cell_type": "code",
   "execution_count": 6,
   "metadata": {},
   "outputs": [],
   "source": [
    "X_train = []\n",
    "y_train = []\n",
    "X_test = []\n",
    "y_test = []\n",
    "time_units = 128\n",
    "test_size = 80 # 4 month data\n",
    "for i in range(time_units, len(scaled_price)-test_size):\n",
    "    X_train.append(scaled_price[i-time_units:i, 0])\n",
    "    y_train.append(scaled_price[i,0])\n",
    "for i in range(len(scaled_price)-test_size-1, len(scaled_price)):\n",
    "    X_test.append(scaled_price[i-time_units:i, 0])\n",
    "    y_test.append(scaled_price[i,0])\n",
    "\n",
    "X_train, y_train = np.array(X_train), np.array(y_train)\n",
    "X_test, y_test = np.array(X_test), np.array(y_test)"
   ]
  },
  {
   "cell_type": "code",
   "execution_count": 7,
   "metadata": {},
   "outputs": [],
   "source": [
    "X_train = X_train.reshape((X_train.shape[0], X_train.shape[1],1))\n",
    "X_test = X_test.reshape((X_test.shape[0], X_test.shape[1],1))"
   ]
  },
  {
   "cell_type": "code",
   "execution_count": 8,
   "metadata": {},
   "outputs": [
    {
     "name": "stderr",
     "output_type": "stream",
     "text": [
      "/usr/local/lib/python3.5/dist-packages/h5py/__init__.py:36: FutureWarning: Conversion of the second argument of issubdtype from `float` to `np.floating` is deprecated. In future, it will be treated as `np.float64 == np.dtype(float).type`.\n",
      "  from ._conv import register_converters as _register_converters\n",
      "Using TensorFlow backend.\n"
     ]
    }
   ],
   "source": [
    "from keras.models import Sequential\n",
    "from keras.layers import LSTM\n",
    "from keras.layers import Dense\n",
    "from keras.layers import Dropout"
   ]
  },
  {
   "cell_type": "code",
   "execution_count": 9,
   "metadata": {},
   "outputs": [],
   "source": [
    "model = Sequential()\n",
    "model.add(LSTM(return_sequences=True, units=256, input_shape=(X_train.shape[1],1)))\n",
    "model.add(Dropout(0.2))\n",
    "model.add(LSTM(units=256, return_sequences=True))\n",
    "model.add(Dropout(0.2))\n",
    "model.add(LSTM(units=256))\n",
    "model.add(Dropout(0.2))\n",
    "model.add(Dense(units=1))\n",
    "model.compile(loss='mean_squared_error', optimizer='adam')"
   ]
  },
  {
   "cell_type": "code",
   "execution_count": 10,
   "metadata": {
    "scrolled": true
   },
   "outputs": [
    {
     "name": "stdout",
     "output_type": "stream",
     "text": [
      "Epoch 1/100\n",
      "2311/2311 [==============================] - 47s 20ms/step - loss: 0.0110\n",
      "Epoch 2/100\n",
      "2311/2311 [==============================] - 49s 21ms/step - loss: 8.0470e-04\n",
      "Epoch 3/100\n",
      "2311/2311 [==============================] - 46s 20ms/step - loss: 7.5274e-04\n",
      "Epoch 4/100\n",
      "2311/2311 [==============================] - 46s 20ms/step - loss: 8.7144e-04\n",
      "Epoch 5/100\n",
      "2311/2311 [==============================] - 49s 21ms/step - loss: 7.8615e-04\n",
      "Epoch 6/100\n",
      "2311/2311 [==============================] - 50s 21ms/step - loss: 8.3488e-04\n",
      "Epoch 7/100\n",
      "2311/2311 [==============================] - 49s 21ms/step - loss: 7.5699e-04\n",
      "Epoch 8/100\n",
      "2311/2311 [==============================] - 50s 22ms/step - loss: 8.2501e-04\n",
      "Epoch 9/100\n",
      "2311/2311 [==============================] - 51s 22ms/step - loss: 7.5896e-04\n",
      "Epoch 10/100\n",
      "2311/2311 [==============================] - 52s 23ms/step - loss: 7.0265e-04\n",
      "Epoch 11/100\n",
      "2311/2311 [==============================] - 52s 23ms/step - loss: 6.8901e-04\n",
      "Epoch 12/100\n",
      "2311/2311 [==============================] - 48s 21ms/step - loss: 6.2467e-04\n",
      "Epoch 13/100\n",
      "2311/2311 [==============================] - 47s 20ms/step - loss: 7.4959e-04\n",
      "Epoch 14/100\n",
      "2311/2311 [==============================] - 48s 21ms/step - loss: 6.4372e-04\n",
      "Epoch 15/100\n",
      "2311/2311 [==============================] - 48s 21ms/step - loss: 6.5079e-04\n",
      "Epoch 16/100\n",
      "2311/2311 [==============================] - 49s 21ms/step - loss: 7.6620e-04\n",
      "Epoch 17/100\n",
      "2311/2311 [==============================] - 46s 20ms/step - loss: 5.9213e-04\n",
      "Epoch 18/100\n",
      "2311/2311 [==============================] - 47s 20ms/step - loss: 6.4749e-04\n",
      "Epoch 19/100\n",
      "2311/2311 [==============================] - 47s 20ms/step - loss: 6.0892e-04\n",
      "Epoch 20/100\n",
      "2311/2311 [==============================] - 47s 20ms/step - loss: 6.2483e-04\n",
      "Epoch 21/100\n",
      "2311/2311 [==============================] - 48s 21ms/step - loss: 5.0939e-04\n",
      "Epoch 22/100\n",
      "2311/2311 [==============================] - 47s 20ms/step - loss: 5.3090e-04\n",
      "Epoch 23/100\n",
      "2311/2311 [==============================] - 47s 20ms/step - loss: 4.5027e-04\n",
      "Epoch 24/100\n",
      "2311/2311 [==============================] - 47s 20ms/step - loss: 4.7043e-04\n",
      "Epoch 25/100\n",
      "2311/2311 [==============================] - 47s 20ms/step - loss: 4.4267e-04\n",
      "Epoch 26/100\n",
      "2311/2311 [==============================] - 47s 20ms/step - loss: 6.4474e-04\n",
      "Epoch 27/100\n",
      "2311/2311 [==============================] - 47s 20ms/step - loss: 5.1935e-04\n",
      "Epoch 28/100\n",
      "2311/2311 [==============================] - 47s 20ms/step - loss: 5.1920e-04\n",
      "Epoch 29/100\n",
      "2311/2311 [==============================] - 47s 20ms/step - loss: 5.3779e-04\n",
      "Epoch 30/100\n",
      "2311/2311 [==============================] - 47s 20ms/step - loss: 5.3909e-04\n",
      "Epoch 31/100\n",
      "2311/2311 [==============================] - 47s 20ms/step - loss: 4.8456e-04\n",
      "Epoch 32/100\n",
      "2311/2311 [==============================] - 47s 20ms/step - loss: 5.2574e-04\n",
      "Epoch 33/100\n",
      "2311/2311 [==============================] - 47s 20ms/step - loss: 4.0424e-04\n",
      "Epoch 34/100\n",
      "2311/2311 [==============================] - 47s 20ms/step - loss: 4.0849e-04\n",
      "Epoch 35/100\n",
      "2311/2311 [==============================] - 47s 20ms/step - loss: 4.9963e-04\n",
      "Epoch 36/100\n",
      "2311/2311 [==============================] - 47s 20ms/step - loss: 4.4213e-04\n",
      "Epoch 37/100\n",
      "2311/2311 [==============================] - 47s 20ms/step - loss: 4.1337e-04\n",
      "Epoch 38/100\n",
      "2311/2311 [==============================] - 49s 21ms/step - loss: 5.2443e-04\n",
      "Epoch 39/100\n",
      "2311/2311 [==============================] - 47s 20ms/step - loss: 5.1083e-04\n",
      "Epoch 40/100\n",
      "2311/2311 [==============================] - 46s 20ms/step - loss: 4.5292e-04\n",
      "Epoch 41/100\n",
      "2311/2311 [==============================] - 47s 20ms/step - loss: 4.0225e-04\n",
      "Epoch 42/100\n",
      "2311/2311 [==============================] - 47s 20ms/step - loss: 4.0253e-04\n",
      "Epoch 43/100\n",
      "2311/2311 [==============================] - 47s 20ms/step - loss: 4.0130e-04\n",
      "Epoch 44/100\n",
      "2311/2311 [==============================] - 50s 22ms/step - loss: 3.9688e-04\n",
      "Epoch 45/100\n",
      "2311/2311 [==============================] - 49s 21ms/step - loss: 3.8414e-04\n",
      "Epoch 46/100\n",
      "2311/2311 [==============================] - 49s 21ms/step - loss: 4.8802e-04\n",
      "Epoch 47/100\n",
      "2311/2311 [==============================] - 49s 21ms/step - loss: 4.9124e-04\n",
      "Epoch 48/100\n",
      "2311/2311 [==============================] - 49s 21ms/step - loss: 4.0319e-04\n",
      "Epoch 49/100\n",
      "2311/2311 [==============================] - 49s 21ms/step - loss: 4.2418e-04\n",
      "Epoch 50/100\n",
      "2311/2311 [==============================] - 49s 21ms/step - loss: 3.8025e-04\n",
      "Epoch 51/100\n",
      "2311/2311 [==============================] - 49s 21ms/step - loss: 4.2491e-04\n",
      "Epoch 52/100\n",
      "2311/2311 [==============================] - 49s 21ms/step - loss: 3.8636e-04\n",
      "Epoch 53/100\n",
      "2311/2311 [==============================] - 50s 21ms/step - loss: 3.8601e-04\n",
      "Epoch 54/100\n",
      "2311/2311 [==============================] - 49s 21ms/step - loss: 3.8093e-04\n",
      "Epoch 55/100\n",
      "2311/2311 [==============================] - 46s 20ms/step - loss: 3.4144e-04\n",
      "Epoch 56/100\n",
      "2311/2311 [==============================] - 46s 20ms/step - loss: 3.2259e-04\n",
      "Epoch 57/100\n",
      "2311/2311 [==============================] - 47s 20ms/step - loss: 3.7918e-04\n",
      "Epoch 58/100\n",
      "2311/2311 [==============================] - 49s 21ms/step - loss: 4.4028e-04\n",
      "Epoch 59/100\n",
      "2311/2311 [==============================] - 49s 21ms/step - loss: 3.1664e-04\n",
      "Epoch 60/100\n",
      "2311/2311 [==============================] - 49s 21ms/step - loss: 3.6170e-04\n",
      "Epoch 61/100\n",
      "2311/2311 [==============================] - 49s 21ms/step - loss: 4.3164e-04\n",
      "Epoch 62/100\n",
      "2311/2311 [==============================] - 49s 21ms/step - loss: 4.2853e-04\n",
      "Epoch 63/100\n",
      "2311/2311 [==============================] - 49s 21ms/step - loss: 3.3893e-04\n",
      "Epoch 64/100\n",
      "2311/2311 [==============================] - 49s 21ms/step - loss: 4.0459e-04\n",
      "Epoch 65/100\n",
      "2311/2311 [==============================] - 49s 21ms/step - loss: 3.5802e-04\n",
      "Epoch 66/100\n",
      "2311/2311 [==============================] - 49s 21ms/step - loss: 3.7411e-04\n",
      "Epoch 67/100\n",
      "2311/2311 [==============================] - 49s 21ms/step - loss: 3.5234e-04\n",
      "Epoch 68/100\n",
      "2311/2311 [==============================] - 50s 21ms/step - loss: 3.5161e-04\n",
      "Epoch 69/100\n",
      "2311/2311 [==============================] - 49s 21ms/step - loss: 3.3688e-04\n",
      "Epoch 70/100\n",
      "2311/2311 [==============================] - 49s 21ms/step - loss: 3.5664e-04\n",
      "Epoch 71/100\n",
      "2311/2311 [==============================] - 49s 21ms/step - loss: 4.3320e-04\n",
      "Epoch 72/100\n",
      "2311/2311 [==============================] - 49s 21ms/step - loss: 3.9899e-04\n",
      "Epoch 73/100\n",
      "2311/2311 [==============================] - 49s 21ms/step - loss: 3.4183e-04\n",
      "Epoch 74/100\n",
      "2311/2311 [==============================] - 51s 22ms/step - loss: 3.4260e-04\n",
      "Epoch 75/100\n",
      "2311/2311 [==============================] - 52s 22ms/step - loss: 3.1814e-04\n",
      "Epoch 76/100\n",
      "2311/2311 [==============================] - 52s 22ms/step - loss: 3.5543e-04\n",
      "Epoch 77/100\n",
      "2311/2311 [==============================] - 52s 22ms/step - loss: 3.2716e-04\n",
      "Epoch 78/100\n",
      "2311/2311 [==============================] - 52s 22ms/step - loss: 3.4313e-04\n",
      "Epoch 79/100\n",
      "2311/2311 [==============================] - 52s 22ms/step - loss: 4.3800e-04\n",
      "Epoch 80/100\n",
      "2311/2311 [==============================] - 52s 23ms/step - loss: 3.1382e-04\n",
      "Epoch 81/100\n",
      "2311/2311 [==============================] - 53s 23ms/step - loss: 3.5782e-04\n",
      "Epoch 82/100\n",
      "2311/2311 [==============================] - 52s 22ms/step - loss: 3.1159e-04\n",
      "Epoch 83/100\n",
      "2311/2311 [==============================] - 52s 22ms/step - loss: 4.1114e-04\n",
      "Epoch 84/100\n",
      "2311/2311 [==============================] - 52s 22ms/step - loss: 2.9113e-04\n",
      "Epoch 85/100\n",
      "2311/2311 [==============================] - 52s 22ms/step - loss: 3.5381e-04\n",
      "Epoch 86/100\n",
      "2311/2311 [==============================] - 52s 22ms/step - loss: 3.4164e-04\n",
      "Epoch 87/100\n",
      "2311/2311 [==============================] - 51s 22ms/step - loss: 3.0073e-04\n",
      "Epoch 88/100\n",
      "2311/2311 [==============================] - 47s 20ms/step - loss: 2.9858e-04\n",
      "Epoch 89/100\n",
      "2311/2311 [==============================] - 47s 21ms/step - loss: 2.8497e-04\n",
      "Epoch 90/100\n",
      "2311/2311 [==============================] - 48s 21ms/step - loss: 2.9941e-04\n",
      "Epoch 91/100\n"
     ]
    },
    {
     "name": "stdout",
     "output_type": "stream",
     "text": [
      "2311/2311 [==============================] - 48s 21ms/step - loss: 3.1455e-04\n",
      "Epoch 92/100\n",
      "2311/2311 [==============================] - 49s 21ms/step - loss: 3.6307e-04\n",
      "Epoch 93/100\n",
      "2311/2311 [==============================] - 50s 22ms/step - loss: 3.3754e-04\n",
      "Epoch 94/100\n",
      "2311/2311 [==============================] - 49s 21ms/step - loss: 3.9353e-04\n",
      "Epoch 95/100\n",
      "2311/2311 [==============================] - 49s 21ms/step - loss: 3.3425e-04\n",
      "Epoch 96/100\n",
      "2311/2311 [==============================] - 49s 21ms/step - loss: 3.4969e-04\n",
      "Epoch 97/100\n",
      "2311/2311 [==============================] - 49s 21ms/step - loss: 3.5562e-04\n",
      "Epoch 98/100\n",
      "2311/2311 [==============================] - 49s 21ms/step - loss: 3.0269e-04\n",
      "Epoch 99/100\n",
      "2311/2311 [==============================] - 49s 21ms/step - loss: 3.1520e-04\n",
      "Epoch 100/100\n",
      "2311/2311 [==============================] - 51s 22ms/step - loss: 2.9843e-04\n"
     ]
    },
    {
     "data": {
      "text/plain": [
       "<keras.callbacks.History at 0x7fb71e4e96a0>"
      ]
     },
     "execution_count": 10,
     "metadata": {},
     "output_type": "execute_result"
    }
   ],
   "source": [
    "model.fit(X_train, y_train,batch_size=32, epochs=100)"
   ]
  },
  {
   "cell_type": "code",
   "execution_count": 14,
   "metadata": {},
   "outputs": [],
   "source": [
    "X_test  = X_test.reshape((X_test.shape[0], X_test.shape[1], 1))\n",
    "predicted_price = model.predict(X_test[1:])"
   ]
  },
  {
   "cell_type": "code",
   "execution_count": 15,
   "metadata": {},
   "outputs": [],
   "source": [
    "y_test = y_test.reshape((y_test.shape[0],1))"
   ]
  },
  {
   "cell_type": "code",
   "execution_count": 16,
   "metadata": {},
   "outputs": [
    {
     "data": {
      "image/png": "[encoded data removed]",
      "text/plain": [
       "<matplotlib.figure.Figure at 0x7fb7184a7c18>"
      ]
     },
     "metadata": {},
     "output_type": "display_data"
    }
   ],
   "source": [
    "predicted_price = sc.inverse_transform(predicted_price)\n",
    "real_price = sc.inverse_transform(y_test)\n",
    "plt.plot(real_price, color = 'red', label='Real')\n",
    "plt.plot(predicted_price, color = 'green', label = 'predicted')\n",
    "plt.xlabel('Time')\n",
    "plt.ylabel('Price')\n",
    "plt.title('Apple Stock Price')\n",
    "plt.legend()\n",
    "plt.show()"
   ]
  },
  {
   "cell_type": "code",
   "execution_count": 17,
   "metadata": {},
   "outputs": [],
   "source": [
    "from keras.models import load_model"
   ]
  },
  {
   "cell_type": "code",
   "execution_count": 18,
   "metadata": {},
   "outputs": [],
   "source": [
    "model.save('apple_stock_price.h5')"
   ]
  },
  {
   "cell_type": "code",
   "execution_count": null,
   "metadata": {},
   "outputs": [],
   "source": []
  }
 ],
 "metadata": {
  "kernelspec": {
   "display_name": "Python 3",
   "language": "python",
   "name": "python3"
  },
  "language_info": {
   "codemirror_mode": {
    "name": "ipython",
    "version": 3
   },
   "file_extension": ".py",
   "mimetype": "text/x-python",
   "name": "python",
   "nbconvert_exporter": "python",
   "pygments_lexer": "ipython3",
   "version": "3.5.2"
  }
 },
 "nbformat": 4,
 "nbformat_minor": 2
}
