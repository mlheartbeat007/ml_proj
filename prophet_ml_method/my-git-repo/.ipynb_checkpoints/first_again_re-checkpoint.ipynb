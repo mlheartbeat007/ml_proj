{
 "cells": [
  {
   "cell_type": "code",
   "execution_count": 1,
   "metadata": {
    "scrolled": true
   },
   "outputs": [
    {
     "name": "stdout",
     "output_type": "stream",
     "text": [
      "              Open    High     Low    Close      Volume  Ex-Dividend  \\\n",
      "Date                                                                   \n",
      "2004-08-19  100.01  104.06   95.96  100.335  44659000.0          0.0   \n",
      "2004-08-20  101.01  109.08  100.50  108.310  22834300.0          0.0   \n",
      "2004-08-23  110.76  113.48  109.05  109.400  18256100.0          0.0   \n",
      "2004-08-24  111.24  111.60  103.57  104.870  15247300.0          0.0   \n",
      "2004-08-25  104.76  108.00  103.88  106.000   9188600.0          0.0   \n",
      "\n",
      "            Split Ratio  Adj. Open  Adj. High   Adj. Low  Adj. Close  \\\n",
      "Date                                                                   \n",
      "2004-08-19          1.0  50.159839  52.191109  48.128568   50.322842   \n",
      "2004-08-20          1.0  50.661387  54.708881  50.405597   54.322689   \n",
      "2004-08-23          1.0  55.551482  56.915693  54.693835   54.869377   \n",
      "2004-08-24          1.0  55.792225  55.972783  51.945350   52.597363   \n",
      "2004-08-25          1.0  52.542193  54.167209  52.100830   53.164113   \n",
      "\n",
      "            Adj. Volume  \n",
      "Date                     \n",
      "2004-08-19   44659000.0  \n",
      "2004-08-20   22834300.0  \n",
      "2004-08-23   18256100.0  \n",
      "2004-08-24   15247300.0  \n",
      "2004-08-25    9188600.0  \n"
     ]
    }
   ],
   "source": [
    "import pandas as pd              #import pandas for the mathmatical calculation\n",
    "import quandl                    # from this module we fetch the google stock prize\n",
    "df = quandl.get('WIKI/GOOGL')    #from this we can get the data \n",
    "\n",
    "print df.head()                  #print the first first few element of that data"
   ]
  },
  {
   "cell_type": "markdown",
   "metadata": {},
   "source": [
    "#### each of the column of this is a feture of our data .\n",
    "#### we need a meanning ful feature for the pattern recognition\n",
    "#### there are somethiing called adjusted (Adj.high,adj.low etc) the are the feture \n",
    "#### after the stock splits \n",
    "#### people can buy the share with bellow the prioces\n"
   ]
  },
  {
   "cell_type": "markdown",
   "metadata": {},
   "source": [
    "#### we have to find the relation ship between these columns to predict and pattern recognition\n",
    "#### now we grab some feture\n",
    "#### we want somne specific column"
   ]
  },
  {
   "cell_type": "code",
   "execution_count": 2,
   "metadata": {},
   "outputs": [
    {
     "name": "stdout",
     "output_type": "stream",
     "text": [
      "            Adj. Open  Adj. High   Adj. Low  Adj. Close  Adj. Volume\n",
      "Date                                                                \n",
      "2004-08-19  50.159839  52.191109  48.128568   50.322842   44659000.0\n",
      "2004-08-20  50.661387  54.708881  50.405597   54.322689   22834300.0\n",
      "2004-08-23  55.551482  56.915693  54.693835   54.869377   18256100.0\n",
      "2004-08-24  55.792225  55.972783  51.945350   52.597363   15247300.0\n",
      "2004-08-25  52.542193  54.167209  52.100830   53.164113    9188600.0\n"
     ]
    }
   ],
   "source": [
    "\n",
    "df = df[['Adj. Open','Adj. High','Adj. Low','Adj. Close','Adj. Volume']]\n",
    "print df.head()"
   ]
  },
  {
   "cell_type": "markdown",
   "metadata": {},
   "source": [
    "#### the meanning of the adjusted high and adjusted low give you a \n",
    "#### volitality of price of the day\n",
    "#### the adjusted open gives you the price of the openning price\n",
    "#### and adjusted close gives you price goes up or down in\n",
    "#### the day and how much"
   ]
  },
  {
   "cell_type": "markdown",
   "metadata": {},
   "source": [
    "#### we find the percent volitality of the day\n",
    "#### by subtracting the adj high-adj low\n"
   ]
  },
  {
   "cell_type": "code",
   "execution_count": 3,
   "metadata": {},
   "outputs": [
    {
     "name": "stdout",
     "output_type": "stream",
     "text": [
      "Date\n",
      "2004-08-19    0.037126\n",
      "2004-08-20    0.007109\n",
      "2004-08-23    0.037294\n",
      "2004-08-24    0.064175\n",
      "2004-08-25    0.018868\n",
      "Name: HL_PCT, dtype: float64\n"
     ]
    }
   ],
   "source": [
    "df['HL_PCT']=(df['Adj. High']-df['Adj. Close'])/df['Adj. Close'] \n",
    "print df['HL_PCT'].head()\n",
    "#its the percent volitality of high - close \n",
    "#print df['HL_PCT']"
   ]
  },
  {
   "cell_type": "markdown",
   "metadata": {},
   "source": [
    "#### now a new column of the percent change\n",
    "#### of the stock price by \n",
    "#### subtracting the beggining(open) and the close price"
   ]
  },
  {
   "cell_type": "code",
   "execution_count": 4,
   "metadata": {},
   "outputs": [
    {
     "name": "stdout",
     "output_type": "stream",
     "text": [
      "Date\n",
      "2004-08-19    0.003250\n",
      "2004-08-20    0.072270\n",
      "2004-08-23   -0.012279\n",
      "2004-08-24   -0.057264\n",
      "2004-08-25    0.011837\n",
      "Name: PCT_Change, dtype: float64\n"
     ]
    }
   ],
   "source": [
    "df['PCT_Change']=(df['Adj. Close']-df['Adj. Open'])/df['Adj. Open'] \n",
    "print df['PCT_Change'].head()"
   ]
  },
  {
   "cell_type": "code",
   "execution_count": 5,
   "metadata": {},
   "outputs": [
    {
     "name": "stdout",
     "output_type": "stream",
     "text": [
      "            Adj. Close    HL_PCT  PCT_Change  Adj. Volume\n",
      "Date                                                     \n",
      "2004-08-19   50.322842  0.037126    0.003250   44659000.0\n",
      "2004-08-20   54.322689  0.007109    0.072270   22834300.0\n",
      "2004-08-23   54.869377  0.037294   -0.012279   18256100.0\n",
      "2004-08-24   52.597363  0.064175   -0.057264   15247300.0\n",
      "2004-08-25   53.164113  0.018868    0.011837    9188600.0\n",
      "\n",
      "\n",
      "\n",
      "\n",
      "\n",
      "                   tail     \n",
      "\n",
      "      \n",
      "            Adj. Close    HL_PCT  PCT_Change  Adj. Volume\n",
      "Date                                                     \n",
      "2018-03-21     1094.00  0.013437    0.001309    1990515.0\n",
      "2018-03-22     1053.15  0.029217   -0.024870    3418154.0\n",
      "2018-03-23     1026.55  0.039190   -0.023607    2413517.0\n",
      "2018-03-26     1054.09  0.004914    0.003322    3272409.0\n",
      "2018-03-27     1006.94  0.057203   -0.053539    2940957.0\n"
     ]
    }
   ],
   "source": [
    "## now we create the data frame with only the data we have\n",
    "\n",
    "df = df[['Adj. Close','HL_PCT','PCT_Change','Adj. Volume',]]\n",
    "print df.head()\n",
    "\n",
    "print \"\\n\\n\\n\\n\"\n",
    "print \"                   tail     \\n\\n      \"\n",
    "\n",
    "print df.tail()"
   ]
  },
  {
   "cell_type": "code",
   "execution_count": 6,
   "metadata": {},
   "outputs": [],
   "source": [
    "## now we assign the Adj.Close to the forcast_column\n",
    "forcast_col='Adj. Close'\n",
    "##and we replace the null value with the -99999 value\n",
    "## because in mlwe cant work with the null data"
   ]
  },
  {
   "cell_type": "code",
   "execution_count": 7,
   "metadata": {},
   "outputs": [],
   "source": [
    "df.fillna(-99999,inplace=True)"
   ]
  },
  {
   "cell_type": "code",
   "execution_count": 8,
   "metadata": {
    "scrolled": true
   },
   "outputs": [
    {
     "name": "stdout",
     "output_type": "stream",
     "text": [
      "Date\n",
      "2004-08-19    50.322842\n",
      "2004-08-20    54.322689\n",
      "2004-08-23    54.869377\n",
      "2004-08-24    52.597363\n",
      "2004-08-25    53.164113\n",
      "Name: Adj. Close, dtype: float64\n"
     ]
    }
   ],
   "source": [
    "import math   #importing math to perform some mathmatical\n",
    "             #calculation\n",
    "\n",
    "print df[forcast_col].head()   #remember forcast col is the adj close price\n",
    "\n",
    "forcast_out=int(math.ceil(0.01*len(df)));\n",
    "#print forcast_out\n",
    "#forcast_out actually shows howmuch time actually we predect\n",
    "## math.ceil() will round that up \n",
    "## and here we are try to predict the 10% of the data\n",
    "#that means we are using data of 10 days ago to predict today\n",
    "#now we need  a label of the data frame\n"
   ]
  },
  {
   "cell_type": "code",
   "execution_count": null,
   "metadata": {},
   "outputs": [
    {
     "name": "stdout",
     "output_type": "stream",
     "text": [
      "            Adj. Close    HL_PCT  PCT_Change  Adj. Volume      label\n",
      "Date                                                                \n",
      "2004-08-19   50.322842  0.037126    0.003250   44659000.0  69.078238\n",
      "2004-08-20   54.322689  0.007109    0.072270   22834300.0  67.839414\n",
      "2004-08-23   54.869377  0.037294   -0.012279   18256100.0  68.912727\n",
      "2004-08-24   52.597363  0.064175   -0.057264   15247300.0  70.668146\n",
      "2004-08-25   53.164113  0.018868    0.011837    9188600.0  71.219849\n"
     ]
    }
   ],
   "source": [
    "df['label'] = df[forcast_col].shift(-forcast_out)\n",
    "df.dropna(inplace=True)\n",
    "print df.head()"
   ]
  },
  {
   "cell_type": "markdown",
   "metadata": {},
   "source": [
    "### in here we are comparing the forcast price with the Adj. Close price \n"
   ]
  },
  {
   "cell_type": "code",
   "execution_count": null,
   "metadata": {},
   "outputs": [],
   "source": [
    "import numpy as np   #computing library\n",
    "from sklearn import preprocessing,cross_validation,svm\n",
    "from sklearn.linear_model import LinearRegression"
   ]
  },
  {
   "cell_type": "code",
   "execution_count": null,
   "metadata": {},
   "outputs": [],
   "source": [
    "X=np.array(df.drop(['label'],1)) \n",
    "\n",
    "\n",
    "\n",
    "Y=np.array(df['label'])\n",
    "X=preprocessing.scale(X)\n",
    "\n",
    " \n",
    "y=np.array(df['label']) \n",
    "\n",
    "\n"
   ]
  },
  {
   "cell_type": "markdown",
   "metadata": {},
   "source": [
    "# NOW WE CREATE THE TRAINING AND TESTING DATASETS"
   ]
  },
  {
   "cell_type": "code",
   "execution_count": null,
   "metadata": {},
   "outputs": [],
   "source": [
    "X_train,X_test,y_train,y_test=cross_validation.train_test_split(X,y,test_size=0.2)\n"
   ]
  },
  {
   "cell_type": "markdown",
   "metadata": {},
   "source": [
    "#### above the code we create our training and testing data sets\n",
    "#### this method is besically do first the take the data of the X and Y and then\n",
    "#### suffle them up and create the test and train data separately\n",
    "#### so that we can measure our accuracy comparing them in the classifire\n",
    "#### in a general it is for training and tesing\n",
    "#### and the we have to give the amout of data at the third parameter"
   ]
  },
  {
   "cell_type": "markdown",
   "metadata": {},
   "source": [
    "# classifier starts here\n"
   ]
  },
  {
   "cell_type": "code",
   "execution_count": null,
   "metadata": {},
   "outputs": [],
   "source": [
    "clf = LinearRegression()  # create a classifire object\n",
    "clf.fit(X_train,y_train) # train data related with fir() method\n",
    "accuracy=clf.score(X_test,y_test) # test data related with score() method\n",
    "print \"the accuracy is \"+str(accuracy)"
   ]
  },
  {
   "cell_type": "markdown",
   "metadata": {},
   "source": [
    "#### There is another algorithm called support vactor regression(svr) which we can use but it will be explined later but for using this bellow example"
   ]
  },
  {
   "cell_type": "code",
   "execution_count": null,
   "metadata": {},
   "outputs": [],
   "source": [
    "clf = svm.SVR() # create a classifire object\n",
    "clf.fit(X_train,y_train) # train data related with fit() method\n",
    "accuracy=clf.score(X_test,y_test) # test data related with score() method\n",
    "print \"the accuracy is \"+str(accuracy)"
   ]
  },
  {
   "cell_type": "markdown",
   "metadata": {},
   "source": [
    "### thats worse than the liner regression"
   ]
  },
  {
   "cell_type": "code",
   "execution_count": null,
   "metadata": {},
   "outputs": [],
   "source": []
  },
  {
   "cell_type": "code",
   "execution_count": null,
   "metadata": {},
   "outputs": [],
   "source": []
  }
 ],
 "metadata": {
  "kernelspec": {
   "display_name": "Python 2",
   "language": "python",
   "name": "python2"
  },
  "language_info": {
   "codemirror_mode": {
    "name": "ipython",
    "version": 2
   },
   "file_extension": ".py",
   "mimetype": "text/x-python",
   "name": "python",
   "nbconvert_exporter": "python",
   "pygments_lexer": "ipython2",
   "version": "2.7.15"
  }
 },
 "nbformat": 4,
 "nbformat_minor": 2
}
