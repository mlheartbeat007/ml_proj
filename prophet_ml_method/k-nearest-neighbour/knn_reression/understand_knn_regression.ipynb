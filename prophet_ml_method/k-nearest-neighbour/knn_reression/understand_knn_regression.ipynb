{
 "cells": [
  {
   "cell_type": "code",
   "execution_count": 139,
   "metadata": {},
   "outputs": [],
   "source": [
    "import numpy as np\n",
    "import matplotlib.pyplot as plt\n",
    "from sklearn import neighbors"
   ]
  },
  {
   "cell_type": "code",
   "execution_count": 140,
   "metadata": {},
   "outputs": [
    {
     "name": "stdout",
     "output_type": "stream",
     "text": [
      "None\n"
     ]
    }
   ],
   "source": [
    "print np.random.seed(0)"
   ]
  },
  {
   "cell_type": "code",
   "execution_count": 141,
   "metadata": {},
   "outputs": [
    {
     "data": {
      "text/plain": [
       "40"
      ]
     },
     "execution_count": 141,
     "metadata": {},
     "output_type": "execute_result"
    }
   ],
   "source": [
    "X = np.sort(5*np.random.rand(40,1),axis=0)\n",
    "len(X)\n",
    "\n",
    "#that means that (40,1) means the array is one dimensional and the\n",
    "#total number of the value will be 40 and the axis = 0 means to\n",
    "## sort along the first axis 5 in multiply jut to make this value bigger"
   ]
  },
  {
   "cell_type": "code",
   "execution_count": 142,
   "metadata": {},
   "outputs": [
    {
     "name": "stdout",
     "output_type": "stream",
     "text": [
      "500\n"
     ]
    }
   ],
   "source": [
    "T=np.linspace(0,5,500)[:,np.newaxis]\n",
    "## the command for linspace(start,end,numberof divide) it means the laset parameter is the number\n",
    "##how much the range of start to end will divide\n",
    "## that means linspace(1,10,5) will divide the 0 to 10 in 5 interval step\n",
    "##print t  if you want to print it\n",
    "print len(T)"
   ]
  },
  {
   "cell_type": "code",
   "execution_count": 143,
   "metadata": {},
   "outputs": [],
   "source": [
    "##np.array([1,2,3,4,5,6,67,56])[:,np.newaxis] this last [:,np.newaxis] will convert the 1D array in ti 2d array that \n",
    "#array([[ 1],\n",
    "#       [ 2],\n",
    "#       [ 3],\n",
    "#       [ 4],\n",
    "#       [ 5],\n",
    "#       [ 6],\n",
    "#       [67],\n",
    "#       [56]])\n",
    "# that creates every element of the list a separate list"
   ]
  },
  {
   "cell_type": "code",
   "execution_count": 144,
   "metadata": {},
   "outputs": [],
   "source": [
    "y=np.sin(X)"
   ]
  },
  {
   "cell_type": "code",
   "execution_count": 145,
   "metadata": {},
   "outputs": [
    {
     "name": "stdout",
     "output_type": "stream",
     "text": [
      "40\n"
     ]
    }
   ],
   "source": [
    "print len(y)\n",
    "## its acctually a 2d array we convert to ane one dimensional array\n",
    "## by the ravel() command"
   ]
  },
  {
   "cell_type": "code",
   "execution_count": 146,
   "metadata": {},
   "outputs": [],
   "source": [
    "y=y.ravel()"
   ]
  },
  {
   "cell_type": "code",
   "execution_count": 147,
   "metadata": {},
   "outputs": [
    {
     "data": {
      "text/plain": [
       "array([ 0.09381086,  0.10091989,  0.34775941,  0.4219966 ,  0.55750066,\n",
       "        0.65695022,  0.96940081,  0.94059723,  0.87637482,  0.8538402 ,\n",
       "        0.81553704,  0.75839099,  0.74075654,  0.50756044,  0.47689441,\n",
       "        0.40518094,  0.38713765,  0.29682859,  0.29496884,  0.12742837,\n",
       "        0.08102512,  0.05689193,  0.05338977, -0.05797992, -0.08776485,\n",
       "       -0.26432971, -0.42082464, -0.66655347, -0.68104667, -0.68968448,\n",
       "       -0.72911815, -0.75404581, -0.85289554, -0.93507411, -0.96803456,\n",
       "       -0.99643995, -0.99997983, -0.99993999, -0.99439521, -0.98371764])"
      ]
     },
     "execution_count": 147,
     "metadata": {},
     "output_type": "execute_result"
    }
   ],
   "source": [
    "y"
   ]
  },
  {
   "cell_type": "markdown",
   "metadata": {},
   "source": [
    "## now we fit the knn regression model in the data"
   ]
  },
  {
   "cell_type": "markdown",
   "metadata": {},
   "source": [
    "## as we know we have to define the value of K that acctually consider how many dots relation we need to consider and its for the acuracy and time efficiency"
   ]
  },
  {
   "cell_type": "code",
   "execution_count": 148,
   "metadata": {},
   "outputs": [],
   "source": [
    "n_neighbors=5\n"
   ]
  },
  {
   "cell_type": "code",
   "execution_count": 149,
   "metadata": {},
   "outputs": [],
   "source": [
    "### we create the knn objects\n",
    "knn=neighbors.KNeighborsRegressor(n_neighbors)"
   ]
  },
  {
   "cell_type": "code",
   "execution_count": 150,
   "metadata": {},
   "outputs": [],
   "source": [
    "y_=knn.fit(X,y).predict(T)\n",
    "\n",
    "\n",
    "## that means accually \n",
    "## \"x er jonno y er man ki ta to dilam ebar bolo T er jonno man gula ki hobe ebong valu gula Y_ e joma rakho\n",
    "## ar T er biporite plot koro\""
   ]
  },
  {
   "cell_type": "code",
   "execution_count": 151,
   "metadata": {},
   "outputs": [
    {
     "data": {
      "text/plain": [
       "500"
      ]
     },
     "execution_count": 151,
     "metadata": {},
     "output_type": "execute_result"
    }
   ],
   "source": [
    "len(y_)"
   ]
  },
  {
   "cell_type": "code",
   "execution_count": 157,
   "metadata": {},
   "outputs": [
    {
     "data": {
      "text/plain": [
       "<matplotlib.legend.Legend at 0x7f865215cf50>"
      ]
     },
     "execution_count": 157,
     "metadata": {},
     "output_type": "execute_result"
    },
    {
     "data": {
      "image/png": "[encoded data removed]",
      "text/plain": [
       "<Figure size 432x288 with 1 Axes>"
      ]
     },
     "metadata": {},
     "output_type": "display_data"
    }
   ],
   "source": [
    "plt.scatter(X,y,label='data')\n",
    "plt.plot(T,y_,c='r',label='prediction')\n",
    "plt.grid()\n",
    "plt.legend()"
   ]
  },
  {
   "cell_type": "code",
   "execution_count": null,
   "metadata": {},
   "outputs": [],
   "source": []
  }
 ],
 "metadata": {
  "kernelspec": {
   "display_name": "Python 2",
   "language": "python",
   "name": "python2"
  },
  "language_info": {
   "codemirror_mode": {
    "name": "ipython",
    "version": 2
   },
   "file_extension": ".py",
   "mimetype": "text/x-python",
   "name": "python",
   "nbconvert_exporter": "python",
   "pygments_lexer": "ipython2",
   "version": "2.7.14"
  }
 },
 "nbformat": 4,
 "nbformat_minor": 2
}
