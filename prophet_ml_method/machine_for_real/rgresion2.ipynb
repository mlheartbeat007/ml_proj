{
 "cells": [
  {
   "cell_type": "code",
   "execution_count": 13,
   "metadata": {},
   "outputs": [
    {
     "data": {
      "image/png": "[encoded data removed]",
      "text/plain": [
       "<matplotlib.figure.Figure at 0x7f5887659e10>"
      ]
     },
     "metadata": {},
     "output_type": "display_data"
    }
   ],
   "source": [
    "from statistics import mean\n",
    "import numpy as np\n",
    "import matplotlib.pyplot as plt\n",
    "from matplotlib import style\n",
    "\n",
    "\n",
    "#we using numpy array because real world use numpy\n",
    "xs=np.array([1,2,3,4,5,6])\n",
    "ys=np.array([5,4,6,5,6,7])\n",
    "\n",
    "\n",
    "\n",
    "\n",
    "# now we create the best fit line\n",
    "#we have to find m and b\n",
    "#using oop not always necessary\n",
    "\n",
    "class best_fit_line:\n",
    "    def __init__(self,xs,ys):\n",
    "        self.xs=xs\n",
    "        self.ys=ys\n",
    "        \n",
    "    def find_m(self):\n",
    "        self.nominator=mean(self.xs)*mean(self.ys)-mean(self.xs*self.ys)\n",
    "        self.denominator=mean(self.xs)*mean(self.xs)-mean(self.xs*self.xs)\n",
    "        self.slope=float(self.nominator/self.denominator)\n",
    "        return self.slope\n",
    "    \n",
    "    \n",
    "    \n",
    "    def find_b(self):\n",
    "        \n",
    "        self.b = mean(self.ys)-self.slope*mean(self.xs)\n",
    "        return self.b\n",
    "    \n",
    "    \n",
    "\n",
    "    \n",
    "line=best_fit_line(xs,ys)\n",
    "m=line.find_m()\n",
    "\n",
    "\n",
    "b=line.find_b()\n",
    "\n",
    "regression_line_Y=[((m*x)+b) for x in xs]\n",
    "\n",
    "plt.scatter(xs,ys)\n",
    "plt.plot(xs,regression_line_Y)\n",
    "plt.grid()"
   ]
  },
  {
   "cell_type": "markdown",
   "metadata": {},
   "source": [
    "### we might create a regression line but the question is how much accuracy you call the best??? there are many ways to make the regression line more accuerate one of the process is called co efficient of determination\n",
    "# how good is our model???\n"
   ]
  },
  {
   "cell_type": "markdown",
   "metadata": {},
   "source": [
    "### we will find the r squard error of the regression line for the more accurate result .its actually for testing purpose of the decision\n"
   ]
  },
  {
   "cell_type": "code",
   "execution_count": 14,
   "metadata": {},
   "outputs": [],
   "source": [
    "#we first find the squered error \n",
    "def squared_error(ys_orig,y_line):   #there will be two parameter one is the\n",
    "    # scatter value another is the the line\n",
    "    ans=sum((y_line-ys_orig)**2)\n",
    "    return ans\n",
    " #squared_error(45,34)"
   ]
  },
  {
   "cell_type": "markdown",
   "metadata": {},
   "source": [
    "### why we use a squeed value .because we will take the only positive value for both negative and positive distance.and we dont take the modulas because we want to kick out the data that is far far away from the line.by giving condition so squered is the best choice\n"
   ]
  },
  {
   "cell_type": "code",
   "execution_count": 15,
   "metadata": {},
   "outputs": [],
   "source": [
    "#the formula of the co efficient of determination\n",
    "# coefficient_of_deter = 1-(squared error of the regresion line/squared error of mean line)\n",
    "#it actually show you the deviation of your error"
   ]
  },
  {
   "cell_type": "code",
   "execution_count": 16,
   "metadata": {},
   "outputs": [],
   "source": [
    "def cof_of_determination(y_orig,y_line):\n",
    "    #we need to find the mean line first\n",
    "    y_mean_line = [mean(y_orig) for item in y_orig ]\n",
    "    #this list for loop will create a list of the same mean of the list data\n",
    "    # suppose the mean is 4 so it will print a list full of 4 like [4,4,4,4,4,4,4,4,4.....]\n",
    "    #now we need the squared_error\n",
    "    \n",
    "    \n",
    "    #squared error for regression line\n",
    "    sq_err_reg=squared_error(ys,y_line)\n",
    "    \n",
    "    #squared error for mean  line\n",
    "    sq_err_mean=squared_error(ys,y_mean_line)\n",
    "    #co efficient of determination\n",
    "    co_ef_det=1-(sq_err_reg/sq_err_mean)\n",
    "    return co_ef_det\n",
    "    "
   ]
  },
  {
   "cell_type": "markdown",
   "metadata": {},
   "source": [
    "## we will represent the coefficient of the determination as a quared of the r. "
   ]
  },
  {
   "cell_type": "code",
   "execution_count": 17,
   "metadata": {},
   "outputs": [],
   "source": [
    "r_sqared = cof_of_determination(ys,regression_line_Y)"
   ]
  },
  {
   "cell_type": "code",
   "execution_count": 18,
   "metadata": {},
   "outputs": [
    {
     "name": "stdout",
     "output_type": "stream",
     "text": [
      "0.5844155844155845\n"
     ]
    }
   ],
   "source": [
    "print r_sqared"
   ]
  },
  {
   "cell_type": "markdown",
   "metadata": {},
   "source": [
    "# error is nearly 42% so there is a significant accuracy"
   ]
  },
  {
   "cell_type": "markdown",
   "metadata": {},
   "source": [
    "<font color='red' size=\"+2\"><b>  we creating a testing model like co efficient of determination but we dont know its working properly or not so we intentionaly create a liner datasets and apply it to the co efficent of determination </font></b>"
   ]
  },
  {
   "cell_type": "code",
   "execution_count": 7,
   "metadata": {},
   "outputs": [],
   "source": [
    "import random    #we pull some random number\n",
    "\n",
    "#create a function of data sets\n",
    "def create_datasets(ammount_data,varience,step=2,correlation=False):\n",
    "    #ammount_data = how much datapoints you need\n",
    "    #varience= how much data varience do you need like the limit\n",
    "    #step = data will be increase and decrease in how much rate\n",
    "    # corelation = do in crement or decrement\n",
    "    val = 1\n",
    "    # create a empty list of the  y value\n",
    "    ys=[]\n",
    "    \n",
    "    for item in range(ammount_data):\n",
    "        y = val+random.randrange(-varience,varience)  #select data from the range\n",
    "        ys.append(y)\n",
    "        \n",
    "        \n",
    "        if correlation and correlation == 'positive':\n",
    "            #we increase the data with a positive interval\n",
    "            val+=step\n",
    "        elif correlation and correlation== 'negative':\n",
    "            val-=step\n",
    "            \n",
    "        #we got the data sets for y axis \n",
    "        #now for x axis\n",
    "    xs=[x for x in range(len(ys))]\n",
    "    x_array = np.array(xs,dtype=np.float64)\n",
    "    y_array = np.array(ys,dtype=np.float64)\n",
    "        \n",
    "        \n",
    "    return x_array,y_array\n",
    "    \n",
    "\n",
    "    \n",
    "    \n",
    "    "
   ]
  },
  {
   "cell_type": "code",
   "execution_count": 8,
   "metadata": {},
   "outputs": [],
   "source": [
    "# lets give it a try to see what we are up to\n",
    "#create_datasets(40,40,7,'positive')"
   ]
  },
  {
   "cell_type": "markdown",
   "metadata": {},
   "source": [
    "### so we created a datasets with a simple liner relationship "
   ]
  },
  {
   "cell_type": "markdown",
   "metadata": {},
   "source": [
    "# lets plot the regression line with the same method"
   ]
  },
  {
   "cell_type": "code",
   "execution_count": 31,
   "metadata": {},
   "outputs": [
    {
     "data": {
      "image/png": "[encoded data removed]",
      "text/plain": [
       "<matplotlib.figure.Figure at 0x7f588743e390>"
      ]
     },
     "metadata": {},
     "output_type": "display_data"
    }
   ],
   "source": [
    "xs1,ys1=create_datasets(40,40,4,'positive')\n",
    "line1=best_fit_line(xs1,ys1)\n",
    "m1=line1.find_m()\n",
    "\n",
    "\n",
    "b1=line1.find_b()\n",
    "\n",
    "regression_line_Y=[((m1*x)+b1) for x in xs1]\n",
    "\n",
    "\n",
    "plt.scatter(xs1,ys1)\n",
    "plt.plot(xs1,regression_line_Y)\n",
    "plt.grid()\n",
    "\n"
   ]
  },
  {
   "cell_type": "markdown",
   "metadata": {},
   "source": [
    "# we can visually see that its actually working"
   ]
  },
  {
   "cell_type": "code",
   "execution_count": null,
   "metadata": {},
   "outputs": [],
   "source": []
  }
 ],
 "metadata": {
  "kernelspec": {
   "display_name": "Python 2",
   "language": "python",
   "name": "python2"
  },
  "language_info": {
   "codemirror_mode": {
    "name": "ipython",
    "version": 2
   },
   "file_extension": ".py",
   "mimetype": "text/x-python",
   "name": "python",
   "nbconvert_exporter": "python",
   "pygments_lexer": "ipython2",
   "version": "2.7.14"
  }
 },
 "nbformat": 4,
 "nbformat_minor": 2
}
