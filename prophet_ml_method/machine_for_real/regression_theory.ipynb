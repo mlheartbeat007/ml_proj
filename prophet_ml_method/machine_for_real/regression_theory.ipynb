{
 "cells": [
  {
   "cell_type": "markdown",
   "metadata": {},
   "source": [
    "# Theory of the linear Regression\n"
   ]
  },
  {
   "cell_type": "markdown",
   "metadata": {},
   "source": [
    "# ------------------------------------------"
   ]
  },
  {
   "cell_type": "markdown",
   "metadata": {},
   "source": [
    "### lets see you have a data sets which is between a tunnel or some kind means you can draw a line that is vry close to all of them to find the thing or acctually a straight line that has a very close relationship with the data point is actually is thr linear regression find the best fit line (y=mx+b).but if the data is scatter very much it become hard to find the best fit  line. to find a best fit line we need the 'm' which is the slope and the x then you find the y.and the b"
   ]
  },
  {
   "cell_type": "markdown",
   "metadata": {},
   "source": [
    "# finding the m\n",
    "# ----------------"
   ]
  },
  {
   "cell_type": "markdown",
   "metadata": {},
   "source": [
    "## m=[{mean(x)*mean(y)}-mean(x*y)]/[{mean(x)}^2-mean(x^2)]\n",
    "## b =mean(y)=m*mean(x)"
   ]
  },
  {
   "cell_type": "markdown",
   "metadata": {},
   "source": [
    "# example of the algorithm"
   ]
  },
  {
   "cell_type": "code",
   "execution_count": 2,
   "metadata": {},
   "outputs": [],
   "source": [
    "from statistics import mean\n",
    "import numpy as np"
   ]
  },
  {
   "cell_type": "code",
   "execution_count": 4,
   "metadata": {},
   "outputs": [
    {
     "data": {
      "image/png": "[encoded data removed]",
      "text/plain": [
       "<matplotlib.figure.Figure at 0x7fb5203e9690>"
      ]
     },
     "metadata": {},
     "output_type": "display_data"
    }
   ],
   "source": [
    "#define the simple value\n",
    "import matplotlib.pyplot as plt\n",
    "xs=[1,2,3,4,5,6]\n",
    "ys=[5,4,6,5,6,7]\n",
    "plt.scatter(xs,ys)\n",
    "plt.show()"
   ]
  },
  {
   "cell_type": "code",
   "execution_count": 12,
   "metadata": {},
   "outputs": [],
   "source": [
    "#but we use the numpy array for using the numpy\n",
    "from statistics import mean\n",
    "import numpy as np\n",
    "xn=np.array([1,2,3,4,5,6])\n",
    "yn=np.array([5,4,6,5,6,7])\n",
    "\n",
    "\n",
    "#now we create a function that create the best fit line or slope\n",
    "\n",
    "def best_fit_line(xn,yn):\n",
    "    nominator=(mean(xn)*mean(yn))-mean(xn*yn)\n",
    "    denominator=(mean(xn)*mean(xn))-mean((xn*xn))\n",
    "    result=nominator/denominator;\n",
    "    return result\n",
    "\n"
   ]
  },
  {
   "cell_type": "code",
   "execution_count": 13,
   "metadata": {},
   "outputs": [],
   "source": [
    "m = best_fit_line(xn,yn)"
   ]
  },
  {
   "cell_type": "code",
   "execution_count": 15,
   "metadata": {},
   "outputs": [
    {
     "name": "stdout",
     "output_type": "stream",
     "text": [
      "Slope :0.42857142857142866\n"
     ]
    }
   ],
   "source": [
    "print \"Slope :\"+str(m)"
   ]
  },
  {
   "cell_type": "code",
   "execution_count": 16,
   "metadata": {},
   "outputs": [
    {
     "name": "stdout",
     "output_type": "stream",
     "text": [
      "b is 4.0\n"
     ]
    }
   ],
   "source": [
    "# now we define a function for finding the b\n",
    "\n",
    "def find_b(xn,yn):\n",
    "    b = mean(yn)-m*mean(xn)\n",
    "    return b\n",
    "\n",
    "b=find_b(xn,yn)\n",
    "print \"b is \"+str(b)"
   ]
  },
  {
   "cell_type": "markdown",
   "metadata": {},
   "source": [
    "# now we create the regression line\n"
   ]
  },
  {
   "cell_type": "code",
   "execution_count": 18,
   "metadata": {},
   "outputs": [],
   "source": [
    "#remember y=mx+b we create the value of y for every x \n",
    "y=[]\n",
    "for x in xn:\n",
    "    y.append((m*x)+b)\n",
    "    "
   ]
  },
  {
   "cell_type": "code",
   "execution_count": 23,
   "metadata": {},
   "outputs": [
    {
     "data": {
      "text/plain": [
       "[<matplotlib.lines.Line2D at 0x7fb5202d77d0>]"
      ]
     },
     "execution_count": 23,
     "metadata": {},
     "output_type": "execute_result"
    },
    {
     "data": {
      "image/png": "[encoded data removed]",
      "text/plain": [
       "<matplotlib.figure.Figure at 0x7fb5202d7410>"
      ]
     },
     "metadata": {},
     "output_type": "display_data"
    }
   ],
   "source": [
    "#so we have a list x   and a list  y\n",
    "# so we plot it\n",
    "import matplotlib.pyplot as plt\n",
    "from matplotlib import style\n",
    "style.use('fivethirtyeight')\n",
    "plt.scatter(xn,yn)\n",
    "plt.plot(xn,y)\n"
   ]
  },
  {
   "cell_type": "code",
   "execution_count": null,
   "metadata": {},
   "outputs": [],
   "source": []
  }
 ],
 "metadata": {
  "kernelspec": {
   "display_name": "Python 2",
   "language": "python",
   "name": "python2"
  },
  "language_info": {
   "codemirror_mode": {
    "name": "ipython",
    "version": 2
   },
   "file_extension": ".py",
   "mimetype": "text/x-python",
   "name": "python",
   "nbconvert_exporter": "python",
   "pygments_lexer": "ipython2",
   "version": "2.7.14"
  }
 },
 "nbformat": 4,
 "nbformat_minor": 2
}
